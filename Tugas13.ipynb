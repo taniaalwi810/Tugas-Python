{
  "nbformat": 4,
  "nbformat_minor": 0,
  "metadata": {
    "colab": {
      "name": "Tugas13.ipynb",
      "provenance": [],
      "collapsed_sections": [],
      "authorship_tag": "ABX9TyMmKFQ2QvOlGRYZOnf+zYaz",
      "include_colab_link": true
    },
    "kernelspec": {
      "name": "python3",
      "display_name": "Python 3"
    }
  },
  "cells": [
    {
      "cell_type": "markdown",
      "metadata": {
        "id": "view-in-github",
        "colab_type": "text"
      },
      "source": [
        "<a href=\"https://colab.research.google.com/github/taniaalwi810/Tugas-Python/blob/main/Tugas13.ipynb\" target=\"_parent\"><img src=\"https://colab.research.google.com/assets/colab-badge.svg\" alt=\"Open In Colab\"/></a>"
      ]
    },
    {
      "cell_type": "code",
      "metadata": {
        "id": "Ze4roukMEQVU"
      },
      "source": [
        "import numpy as np\r\n",
        "import matplotlib.pyplot as plt"
      ],
      "execution_count": 1,
      "outputs": []
    },
    {
      "cell_type": "code",
      "metadata": {
        "id": "ttvqN5oTE-Rd"
      },
      "source": [
        "def cos(frek,tipe,ht,hr,d):\r\n",
        "  #frek = frekuensi (MHz)\r\n",
        "  #tipe = urban, suburban, open\r\n",
        "  #ht = tinggi tower (meter)\r\n",
        "  #hr = tinggi user (meter)\r\n",
        "  #d = jarak (meter)\r\n",
        "    if frek in range(150,1501):\r\n",
        "        Ca=69.55\r\n",
        "        Cb=26.16\r\n",
        "    elif frek in range(1501,2001):\r\n",
        "        Ca=46.3\r\n",
        "        Cb=33.9\r\n",
        "    \r\n",
        "    if tipe=='urban' :\r\n",
        "        Cm=0\r\n",
        "    elif tipe=='suburban' :\r\n",
        "        Cm= -2*((np.log10((frek/28)**2))-5.4)\r\n",
        "    elif tipe=='open' :\r\n",
        "        Cm= -4.78*(np.log10(frek))+18.33*(np.log10(frek))-40.94\r\n",
        "    else :\r\n",
        "        Cm='tipe salah'\r\n",
        "    \r\n",
        "    ahr = (1.1*np.log10(frek)-0.7)*hr-(1.56*np.log10(frek)-1.8)\r\n",
        "    Lp = Ca+(Cb*np.log10(frek))-(13.83*np.log(ht))-ahr+((44.9-6.55*np.log10(ht))*np.log10(d))-Cm\r\n",
        "    \r\n",
        "    return Lp"
      ],
      "execution_count": 2,
      "outputs": []
    },
    {
      "cell_type": "code",
      "metadata": {
        "id": "FSDJ56NJFOKP"
      },
      "source": [
        "f=1800 #MHz\r\n",
        "loc='urban'\r\n",
        "tower=80 #m\r\n",
        "user=1.5 #m\r\n",
        "dmin=200 #m\r\n",
        "dmax=700 #m\r\n",
        "N=200 #titik\r\n",
        "a=np.random.randint(dmin,dmax,N)"
      ],
      "execution_count": 3,
      "outputs": []
    },
    {
      "cell_type": "code",
      "metadata": {
        "colab": {
          "base_uri": "https://localhost:8080/"
        },
        "id": "_qxqwpaCGRyU",
        "outputId": "e4f5b63f-e801-4a66-8349-d5849cf90066"
      },
      "source": [
        "print(a)"
      ],
      "execution_count": 4,
      "outputs": [
        {
          "output_type": "stream",
          "text": [
            "[318 448 635 660 440 364 485 377 360 477 324 322 510 463 496 450 416 275\n",
            " 342 545 259 281 296 527 236 368 376 291 694 443 448 625 589 580 624 302\n",
            " 224 252 631 318 615 383 550 694 238 326 277 323 554 445 626 368 574 496\n",
            " 634 600 245 356 386 497 443 316 491 209 517 307 664 258 234 597 689 616\n",
            " 529 305 603 281 694 344 542 289 629 603 360 224 507 331 416 500 428 637\n",
            " 531 242 535 204 426 486 340 625 297 297 487 337 604 401 359 387 368 695\n",
            " 420 372 417 456 316 425 539 413 255 448 439 395 263 228 370 231 403 698\n",
            " 406 533 344 611 214 671 438 538 260 634 531 620 371 365 468 553 577 408\n",
            " 267 318 598 606 329 611 348 498 452 343 249 640 280 358 359 311 384 411\n",
            " 320 307 275 591 646 692 477 572 557 476 229 391 297 249 474 483 473 387\n",
            " 612 582 336 320 455 468 210 211 618 451 227 569 232 459 667 618 259 338\n",
            " 688 293]\n"
          ],
          "name": "stdout"
        }
      ]
    },
    {
      "cell_type": "code",
      "metadata": {
        "id": "najm8944GWMv"
      },
      "source": [
        "LpUrban=cos(f,loc,tower,user,a)"
      ],
      "execution_count": 5,
      "outputs": []
    },
    {
      "cell_type": "code",
      "metadata": {
        "colab": {
          "base_uri": "https://localhost:8080/"
        },
        "id": "macZoiYQGb_K",
        "outputId": "382f39f5-8f49-4d3c-84a0-a7b70617dac4"
      },
      "source": [
        "print(LpUrban)"
      ],
      "execution_count": 6,
      "outputs": [
        {
          "output_type": "stream",
          "text": [
            "[176.17295956 181.00090267 185.91462979 186.45856755 180.74708972\n",
            " 178.07604525 182.11872533 178.57034992 177.92039464 181.88443739\n",
            " 176.43626138 176.34903982 182.82672547 181.4648163  182.43463788\n",
            " 181.06364771 179.95700017 174.12650695 177.19786511 183.76170046\n",
            " 173.28213511 174.43053827 175.16309002 183.2886107  171.97216775\n",
            " 178.22999474 178.53293625 174.92311425 187.1661492  180.84280631\n",
            " 181.00090267 185.69103403 184.85536142 184.63846041 185.668478\n",
            " 175.44576648 171.23706683 172.89618665 185.82561694 176.17295956\n",
            " 185.46383172 178.79276882 183.89034279 187.1661492  172.09103965\n",
            " 176.5229462  174.22858158 176.39271811 183.99241742 180.90625794\n",
            " 185.713554   178.22999474 184.49198175 182.43463788 185.89242926\n",
            " 185.11600572 172.49936498 177.76300487 178.902675   182.46300896\n",
            " 180.84280631 176.0840871  182.29191895 170.26072435 183.01875116\n",
            " 175.67707279 186.54368103 173.22764283 171.85228415 185.04539786\n",
            " 187.06429599 185.48671757 183.34196773 175.58500555 185.18626141\n",
            " 174.43053827 187.1661492  177.28000084 183.68394734 174.82596739\n",
            " 185.78089869 185.18626141 177.92039464 171.23706683 182.74362058\n",
            " 176.73735273 179.95700017 182.54778096 180.35758368 185.95892618\n",
            " 183.3951234  172.32581571 183.50083675 169.91963656 180.29160587\n",
            " 182.14773921 177.11524764 185.69103403 175.21059846 175.21059846\n",
            " 182.17669346 176.99040572 185.20960232 179.43969953 177.88121175\n",
            " 178.93912065 178.22999474 187.18643176 180.09179773 178.38227987\n",
            " 179.99082068 181.25022312 176.0840871  180.25850071 183.60576266\n",
            " 179.85504867 173.06288963 181.00090267 180.71503911 179.22734017\n",
            " 173.49802037 171.48638728 178.30634309 171.67052372 179.50978046\n",
            " 187.24710481 179.61425242 183.44807925 177.28000084 185.37191467\n",
            " 170.59374784 186.69140322 180.68291541 183.57960436 173.3364174\n",
            " 185.89242926 183.3951234  185.57789095 178.34436265 178.11469065\n",
            " 181.61611999 183.96696802 184.56541147 179.6834724  173.71064686\n",
            " 176.17295956 185.06897316 185.25616844 176.65198134 185.37191467\n",
            " 177.44284933 182.49132302 181.12611449 177.23899284 172.72748718\n",
            " 186.02511066 174.3803199  177.84191957 177.88121175 175.85942145\n",
            " 178.82949958 179.78666874 176.26127482 175.67707279 174.12650695\n",
            " 184.90311142 186.15655395 187.12549625 181.88443739 184.44281507\n",
            " 184.0684909  181.85487549 171.54803393 179.08396756 175.21059846\n",
            " 172.72748718 181.79556493 182.06051765 181.76581574 178.93912065\n",
            " 185.39495023 184.68695008 176.94854466 176.26127482 181.21929832\n",
            " 181.61611999 170.32796189 170.39488001 185.53237803 181.09491573\n",
            " 171.42446965 184.36874179 171.7313715  181.34259222 186.60718033\n",
            " 185.53237803 173.28213511 177.03214275 187.04383667 175.0195957 ]\n"
          ],
          "name": "stdout"
        }
      ]
    },
    {
      "cell_type": "code",
      "metadata": {
        "id": "PLRxHGH5Gl0B"
      },
      "source": [
        "a_sort=a[np.argsort(a)]\r\n",
        "Urban_sort=LpUrban[np.argsort(a)]"
      ],
      "execution_count": 7,
      "outputs": []
    },
    {
      "cell_type": "code",
      "metadata": {
        "id": "X_ezF-I6Gutl"
      },
      "source": [
        "f=900 #MHz\r\n",
        "loc='urban'\r\n",
        "tower=80 #m\r\n",
        "user=1.5 #m\r\n",
        "dmin=200 #m\r\n",
        "dmax=700 #m\r\n",
        "N=200 #titik\r\n",
        "b=np.random.randint(dmin,dmax,N)"
      ],
      "execution_count": 8,
      "outputs": []
    },
    {
      "cell_type": "code",
      "metadata": {
        "colab": {
          "base_uri": "https://localhost:8080/"
        },
        "id": "259MOE3hG-va",
        "outputId": "fe9cd80b-474e-446e-8bb4-140cb3f5712d"
      },
      "source": [
        "print(b)"
      ],
      "execution_count": 9,
      "outputs": [
        {
          "output_type": "stream",
          "text": [
            "[534 325 463 449 243 316 571 322 636 303 654 423 498 492 425 681 417 494\n",
            " 619 522 597 280 643 606 209 501 579 451 620 350 262 291 548 509 202 584\n",
            " 589 260 243 260 216 293 292 594 286 694 492 526 437 647 337 227 258 306\n",
            " 420 506 420 214 470 236 536 542 693 221 343 215 699 530 563 480 286 211\n",
            " 324 283 355 217 314 262 315 236 545 424 550 609 243 384 537 539 525 612\n",
            " 293 230 662 258 487 667 428 508 213 652 259 345 631 449 275 578 607 417\n",
            " 679 305 557 472 344 331 557 231 641 212 583 498 211 505 420 426 579 343\n",
            " 380 588 371 641 598 262 351 272 304 291 233 604 290 619 530 291 479 451\n",
            " 246 507 271 659 286 560 275 302 479 436 432 313 351 422 611 401 647 330\n",
            " 228 604 667 231 583 339 422 459 401 673 276 662 496 366 588 411 339 619\n",
            " 641 639 547 382 565 639 506 291 449 486 596 409 384 598 344 581 524 294\n",
            " 568 539]\n"
          ],
          "name": "stdout"
        }
      ]
    },
    {
      "cell_type": "code",
      "metadata": {
        "id": "m4wU0L85HCaJ"
      },
      "source": [
        "Lpurban1=cos(f,loc,tower,user,b)"
      ],
      "execution_count": 10,
      "outputs": []
    },
    {
      "cell_type": "code",
      "metadata": {
        "colab": {
          "base_uri": "https://localhost:8080/"
        },
        "id": "Df25fAI9HWa1",
        "outputId": "1015da7a-5bb7-4790-d37a-3c62cc8ee2aa"
      },
      "source": [
        "print(Lpurban1)"
      ],
      "execution_count": 11,
      "outputs": [
        {
          "output_type": "stream",
          "text": [
            "[173.68082152 166.68600929 171.67115513 171.23864895 162.5902422\n",
            " 166.29042593 174.62450606 166.55537864 176.14313422 165.69867142\n",
            " 176.53626404 170.39839489 172.69766184 172.52691748 170.46483953\n",
            " 177.10612214 170.19715951 172.58406253 175.76149169 173.36066598\n",
            " 175.25173668 164.58665872 176.29732444 175.46250726 160.46706318\n",
            " 172.78226412 174.82049165 171.30125455 175.78422977 167.72991179\n",
            " 163.65069727 165.12945307 174.04536557 173.00541711 159.9871936\n",
            " 174.94161224 175.06170024 163.54275622 162.5902422  163.54275622\n",
            " 160.93112238 165.22593453 165.1777764  175.18077312 164.88531806\n",
            " 177.37248802 172.52691748 173.46819503 170.8570571  176.38468123\n",
            " 167.19674455 161.63080847 163.43398165 165.83745321 170.29813655\n",
            " 172.92214846 170.29813655 160.80008667 171.88252815 162.17850657\n",
            " 173.73348041 173.89028616 177.35217621 161.25347598 167.44533166\n",
            " 160.86575689 177.47361005 173.57490946 174.42575514 172.17909147\n",
            " 164.88531806 160.60121883 166.64260021 164.73677991 167.92971993\n",
            " 160.99618595 166.2009892  163.65069727 166.24577854 162.17850657\n",
            " 173.96803928 170.43165639 174.09668161 175.53206907 162.5902422\n",
            " 169.0358384  173.75973622 173.81210148 173.44138962 175.60128905\n",
            " 165.22593453 161.81575079 176.7075274  163.43398165 172.38303229\n",
            " 176.81351915 170.5639225  172.97771555 160.73410885 176.49312086\n",
            " 163.48847393 167.52722862 176.03195576 171.23864895 164.33284578\n",
            " 174.79614206 175.48573272 170.19715951 177.064692   165.79134437\n",
            " 174.27482972 171.94234241 167.48633966 166.94369156 174.27482972\n",
            " 161.87686255 176.25344205 160.66782055 174.9174713  172.69766184\n",
            " 160.60121883 172.8942825  170.29813655 170.49794469 174.82049165\n",
            " 167.44533166 168.88833718 175.0377644  168.55070148 176.25344205\n",
            " 175.27531198 163.65069727 167.7701008  164.17833339 165.74508411\n",
            " 165.12945307 161.99829638 175.41594115 165.08096339 175.76149169\n",
            " 173.57490946 165.12945307 172.14971453 171.30125455 162.76308164\n",
            " 172.94995941 164.12645032 176.6435474  164.88531806 174.35049456\n",
            " 164.33284578 165.65210531 172.14971453 170.82478621 170.69495822\n",
            " 166.15605698 167.7701008  170.36505467 175.5782535  169.64603836\n",
            " 176.38468123 166.90107053 161.6927261  175.41594115 176.81351915\n",
            " 161.87686255 174.9174713  167.28009531 170.36505467 171.54893104\n",
            " 169.64603836 176.9396654  164.38397555 176.7075274  172.6409767\n",
            " 168.35956913 175.0377644  169.99300756 167.28009531 175.76149169\n",
            " 176.25344205 176.20942252 174.01963728 168.96228086 174.47570639\n",
            " 176.20942252 172.92214846 165.12945307 171.23864895 172.35407804\n",
            " 175.22812186 169.92429407 169.0358384  175.27531198 167.48633966\n",
            " 174.86906493 173.41453311 165.27392857 174.5503027  173.81210148]\n"
          ],
          "name": "stdout"
        }
      ]
    },
    {
      "cell_type": "code",
      "metadata": {
        "id": "4iimxZn1HdPN"
      },
      "source": [
        "b_sort=b[np.argsort(b)]\r\n",
        "urban1_sort=Lpurban1[np.argsort(b)]"
      ],
      "execution_count": 12,
      "outputs": []
    },
    {
      "cell_type": "code",
      "metadata": {
        "id": "2ZdKkeayHrA3"
      },
      "source": [
        "f=700 #MHz\r\n",
        "loc='urban'\r\n",
        "tower=80 #m\r\n",
        "user=1.5 #m\r\n",
        "dmin=200 #m\r\n",
        "dmax=700 #m\r\n",
        "N=200 #titik\r\n",
        "c=np.random.randint(dmin,dmax,N)"
      ],
      "execution_count": 13,
      "outputs": []
    },
    {
      "cell_type": "code",
      "metadata": {
        "colab": {
          "base_uri": "https://localhost:8080/"
        },
        "id": "kGL771EqH5MF",
        "outputId": "ee561353-4653-4176-8a62-8ae9f5415808"
      },
      "source": [
        "print(c)"
      ],
      "execution_count": 14,
      "outputs": [
        {
          "output_type": "stream",
          "text": [
            "[628 495 225 665 589 652 492 234 203 354 698 416 242 340 412 616 578 391\n",
            " 639 678 640 310 351 473 527 598 467 554 260 398 553 596 360 349 559 392\n",
            " 284 549 572 601 236 558 215 587 460 672 531 497 402 447 512 593 697 553\n",
            " 221 400 290 696 212 276 643 259 509 641 307 491 670 436 348 599 472 540\n",
            " 684 668 654 397 446 288 343 224 679 258 464 457 620 432 312 581 607 379\n",
            " 308 345 297 395 440 261 357 410 630 237 243 681 292 352 250 602 564 664\n",
            " 414 360 346 555 616 667 203 510 383 375 300 248 612 646 670 438 570 245\n",
            " 370 424 602 452 618 671 576 520 302 218 498 278 479 637 322 584 563 613\n",
            " 200 580 583 516 483 686 407 368 617 674 554 577 629 492 602 554 634 496\n",
            " 451 578 452 328 274 316 299 368 566 469 573 516 486 219 378 600 479 435\n",
            " 250 304 518 398 610 554 639 698 468 471 606 617 609 637 322 542 422 472\n",
            " 463 261]\n"
          ],
          "name": "stdout"
        }
      ]
    },
    {
      "cell_type": "code",
      "metadata": {
        "id": "uv02jpYtH9Tq"
      },
      "source": [
        "Lpurban2=cos(f,loc,tower,user,c)"
      ],
      "execution_count": 15,
      "outputs": []
    },
    {
      "cell_type": "code",
      "metadata": {
        "colab": {
          "base_uri": "https://localhost:8080/"
        },
        "id": "wNi-YL9YIHJj",
        "outputId": "b9738daa-bf56-4547-da25-d1bdf79e6a88"
      },
      "source": [
        "print(Lpurban2)"
      ],
      "execution_count": 16,
      "outputs": [
        {
          "output_type": "stream",
          "text": [
            "[173.11942872 169.76715204 158.66075437 173.92582179 172.21630393\n",
            " 173.64772454 169.68152116 159.21322666 157.21135909 165.04458808\n",
            " 174.60804732 167.31794267 159.68675822 164.47619015 167.1818427\n",
            " 172.84766008 171.95074574 166.44491007 173.3640262  174.19853483\n",
            " 173.38605316 163.17499762 164.92470448 169.12675824 170.64955321\n",
            " 172.42991566 168.94693149 171.35335993 160.69735991 166.69486254\n",
            " 171.32791053 172.38272555 165.28133714 164.84421148 171.47992176\n",
            " 166.48089026 161.94107054 171.22565064 171.80375758 172.50040574\n",
            " 159.33311025 171.4547002  158.02036057 172.16839151 168.73419031\n",
            " 174.073323   170.75606591 169.82395147 166.83572609 168.33036754\n",
            " 170.24280009 172.31164261 174.58785199 171.32791053 158.40807966\n",
            " 166.76547039 162.23556707 174.56762767 157.82242424 161.53857923\n",
            " 173.45192813 160.64307761 170.16002079 173.40804573 163.0380153\n",
            " 169.65286146 174.03133717 167.97938989 164.80379183 172.45345157\n",
            " 169.09694609 170.99281497 174.32264345 173.98922581 173.69086772\n",
            " 166.65942544 168.2988194  162.13808407 164.59993534 158.59800934\n",
            " 174.21929568 160.58858533 168.85614984 168.64202267 172.93883345\n",
            " 167.8495619  163.26558467 172.02366862 172.6403364  166.00582296\n",
            " 163.08382424 164.6818323  162.57154096 166.58828268 168.10803223\n",
            " 160.75143382 165.16345999 167.1132964  173.16421806 159.3926716\n",
            " 159.74484588 174.26072582 162.33238008 164.96477916 160.14488762\n",
            " 172.52382426 171.60535659 173.90462353 167.25005706 165.28133714\n",
            " 164.72260292 171.37876343 172.84766008 173.96812283 157.21135909\n",
            " 170.18766798 166.15371132 165.85636545 162.71311238 160.03174455\n",
            " 172.75589273 173.51749646 174.03133717 168.04385791 171.75441869\n",
            " 159.86030749 165.6672856  167.58626007 172.52382426 168.487057\n",
            " 172.89332053 174.05234573 171.90191991 170.46119575 162.80670899\n",
            " 158.21555405 169.85226552 161.64028536 169.30431821 173.31986868\n",
            " 163.70998233 172.09621592 171.58035882 172.77889068 157.00163455\n",
            " 171.99940291 172.07207498 170.35242117 169.42146015 174.36377118\n",
            " 167.00984743 165.59093724 172.87050881 174.11518407 171.35335993\n",
            " 171.92635398 173.14184119 169.68152116 172.52382426 171.35335993\n",
            " 173.25337176 169.79558038 168.45585823 171.95074574 168.487057\n",
            " 163.97004333 161.43613342 163.44502961 162.66607983 165.59093724\n",
            " 171.65521943 169.00712918 171.82836237 170.35242117 169.50868172\n",
            " 158.28002207 165.96860698 172.47694822 169.30431821 167.9470449\n",
            " 160.14488762 162.89968779 170.40691345 166.69486254 172.7097839\n",
            " 171.35335993 173.3640262  174.60804732 168.97706249 169.06707071\n",
            " 172.61711095 172.87050881 172.68667275 173.31986868 163.70998233\n",
            " 171.04488984 167.51965835 169.09694609 168.82575881 160.75143382]\n"
          ],
          "name": "stdout"
        }
      ]
    },
    {
      "cell_type": "code",
      "metadata": {
        "id": "Jf8d7JKOIO1o"
      },
      "source": [
        "c_sort=c[np.argsort(c)]\r\n",
        "urban2_sort=Lpurban2[np.argsort(c)]"
      ],
      "execution_count": 17,
      "outputs": []
    },
    {
      "cell_type": "code",
      "metadata": {
        "colab": {
          "base_uri": "https://localhost:8080/",
          "height": 295
        },
        "id": "vqJZ62rhIaZx",
        "outputId": "656ce34d-9639-4533-fd4e-7aad23bea2e1"
      },
      "source": [
        "plt.figure()\r\n",
        "plt.plot(a_sort,Urban_sort, label='1800 Mhz')\r\n",
        "plt.plot(b_sort,urban1_sort, label='900 Mhz')\r\n",
        "plt.plot(c_sort,urban2_sort, label='700 Mhz')\r\n",
        "plt.legend()\r\n",
        "plt.title('Model Urban (GAMBAR CONTOH)')\r\n",
        "plt.xlabel('Jarak (m)')\r\n",
        "plt.ylabel('Path Loss (dB)')\r\n",
        "plt.show()"
      ],
      "execution_count": 18,
      "outputs": [
        {
          "output_type": "display_data",
          "data": {
            "image/png": "[encoded data removed]",
            "text/plain": [
              "<Figure size 432x288 with 1 Axes>"
            ]
          },
          "metadata": {
            "tags": [],
            "needs_background": "light"
          }
        }
      ]
    },
    {
      "cell_type": "code",
      "metadata": {
        "id": "Zxv-d7w7JOMt"
      },
      "source": [
        "f=1800 #MHz\r\n",
        "loc='suburban'\r\n",
        "tower=80 #m\r\n",
        "user=1.5 #m\r\n",
        "dmin=200 #m\r\n",
        "dmax=700 #m\r\n",
        "N=200 #titik\r\n",
        "d=np.random.randint(dmin,dmax,N)"
      ],
      "execution_count": 21,
      "outputs": []
    },
    {
      "cell_type": "code",
      "metadata": {
        "id": "3UUIoa7dJwcf"
      },
      "source": [
        "Lpsuburban=cos(f,loc,tower,user,d)"
      ],
      "execution_count": 22,
      "outputs": []
    },
    {
      "cell_type": "code",
      "metadata": {
        "colab": {
          "base_uri": "https://localhost:8080/"
        },
        "id": "9LDx6ewjKCiK",
        "outputId": "337cae9d-fd74-41c4-c046-6ce684146f92"
      },
      "source": [
        "print(Lpsuburban)"
      ],
      "execution_count": 24,
      "outputs": [
        {
          "output_type": "stream",
          "text": [
            "[181.98761076 177.1153733  183.20758343 182.21335658 178.78163805\n",
            " 173.87530722 181.31171455 173.33901672 173.29690536 179.7210686\n",
            " 171.11143713 172.91212837 175.07733835 174.43089283 179.25918336\n",
            " 181.59533965 178.31689528 168.69994542 171.64305635 177.68268101\n",
            " 169.15994507 172.91212837 173.21230308 181.61871931 180.6017452\n",
            " 171.40389547 182.58901184 179.8275813  173.58907484 167.79473655\n",
            " 180.94895877 183.5986071  178.07864457 170.66103948 170.76237975\n",
            " 182.28038084 177.01856029 171.01258593 181.59533965 179.74777237\n",
            " 179.8540841  177.21152547 179.39661116 166.35209446 180.39942592\n",
            " 177.62076338 173.75334769 168.6413747  182.39138407 172.10953069\n",
            " 171.25842529 177.4961056  181.02226113 172.91212837 172.01746345\n",
            " 170.61009462 178.10864722 176.62451397 172.91212837 175.2985927\n",
            " 179.12040158 169.7688753  179.80102853 175.15147661 181.31171455\n",
            " 182.47956112 181.40689219 168.81636127 177.62076338 176.59117374\n",
            " 182.58901184 182.6759642  166.89393963 178.81018161 169.60539682\n",
            " 176.62451397 181.61871931 171.73759522 174.62412271 172.82517601\n",
            " 180.89987776 181.16773131 181.98761076 178.07864457 174.54714854\n",
            " 182.10093589 171.87822438 176.59117374 180.42487532 170.45614514\n",
            " 167.47959505 183.31154137 176.72406376 168.10298162 173.29690536\n",
            " 168.40462564 183.01850358 178.01844688 170.0371927  169.93047826\n",
            " 182.36925329 176.35555615 174.73880099 172.91212837 182.34708769\n",
            " 173.75334769 183.27005022 174.35285253 181.50143105 172.86871928\n",
            " 176.92107729 179.28677639 171.01258593 175.55240565 183.33224121\n",
            " 180.65187421 175.62409149 181.91917547 181.19183095 172.38217605\n",
            " 176.88843246 182.43554159 174.155839   182.45756855 180.06433036\n",
            " 167.41571178 167.73226976 177.37033479 171.25842529 166.14340564\n",
            " 181.383158   172.56105131 178.55118322 181.31171455 176.35555615\n",
            " 177.55857239 182.54533355 173.42286362 170.50764881 171.54787871\n",
            " 174.62412271 176.98614086 177.62076338 171.9247905  182.45756855\n",
            " 180.09039186 174.70067854 170.50764881 178.07864457 181.35938376\n",
            " 175.40793015 179.42393656 181.59533965 171.87822438 177.43336056\n",
            " 176.01197235 172.82517601 175.37157855 174.03629454 181.35938376\n",
            " 181.64206022 167.91884517 170.14310475 171.78462777 176.45701809\n",
            " 179.6943141  172.47189761 175.48035312 171.9247905  168.69994542\n",
            " 169.93047826 182.91235208 182.74082804 174.50850315 176.62451397\n",
            " 171.83150381 182.41348013 170.91303614 173.42286362 173.38100255\n",
            " 170.8127778  180.82593408 179.80102853 171.40389547 175.15147661\n",
            " 179.03647141 183.08181262 180.42487532 179.23153618 182.47956112\n",
            " 167.60649895 175.87215743 175.44418818 180.09039186 182.23573345\n",
            " 177.74432766 172.33710005 178.43452634 182.47956112 180.14237066]\n"
          ],
          "name": "stdout"
        }
      ]
    },
    {
      "cell_type": "code",
      "metadata": {
        "id": "1ckAL8iMKIDI"
      },
      "source": [
        "d_sort=d[np.argsort(d)]\r\n",
        "suburban_sort1=Lpsuburban[np.argsort(d)]"
      ],
      "execution_count": 27,
      "outputs": []
    },
    {
      "cell_type": "code",
      "metadata": {
        "id": "366-QUhkKZPe"
      },
      "source": [
        "f=1800 #MHz\r\n",
        "loc='urban'\r\n",
        "tower=80 #m\r\n",
        "user=1.5 #m\r\n",
        "dmin=200 #m\r\n",
        "dmax=700 #m\r\n",
        "N=200 #titik\r\n",
        "e=np.random.randint(dmin,dmax,N)"
      ],
      "execution_count": 28,
      "outputs": []
    },
    {
      "cell_type": "code",
      "metadata": {
        "colab": {
          "base_uri": "https://localhost:8080/"
        },
        "id": "eWdcphGBKxWL",
        "outputId": "920285a0-0c69-4a21-82d1-f10bc3772160"
      },
      "source": [
        "print(e)"
      ],
      "execution_count": 29,
      "outputs": [
        {
          "output_type": "stream",
          "text": [
            "[530 514 366 592 501 536 471 204 399 648 640 271 423 502 614 375 389 504\n",
            " 319 688 617 599 692 419 505 371 688 413 375 371 534 488 539 644 695 235\n",
            " 573 504 671 503 322 328 444 252 624 341 281 217 613 388 345 635 294 402\n",
            " 243 293 493 540 469 636 334 486 213 324 599 602 507 609 630 516 351 595\n",
            " 554 698 206 204 489 568 200 377 321 629 622 348 342 437 692 297 281 352\n",
            " 243 638 579 448 697 625 348 588 498 252 619 371 254 471 584 473 535 409\n",
            " 523 542 528 405 293 414 447 406 455 632 434 312 332 297 686 630 677 570\n",
            " 665 597 523 420 574 675 283 648 269 222 456 357 545 400 321 253 538 575\n",
            " 687 383 410 210 529 217 452 295 232 639 285 632 561 215 356 510 418 357\n",
            " 577 689 549 322 663 545 351 479 315 344 487 405 330 457 281 610 336 244\n",
            " 658 377 583 423 384 525 662 390 288 659 430 406 214 543 316 497 419 401\n",
            " 267 204]\n"
          ],
          "name": "stdout"
        }
      ]
    },
    {
      "cell_type": "code",
      "metadata": {
        "id": "BzY8WrmRK2mR"
      },
      "source": [
        "LpUrban3=cos(f,loc,tower,user,e)"
      ],
      "execution_count": 30,
      "outputs": []
    },
    {
      "cell_type": "code",
      "metadata": {
        "colab": {
          "base_uri": "https://localhost:8080/"
        },
        "id": "DYEhc8kHK7_A",
        "outputId": "8a8933f5-1e08-4a8e-b532-5df9183c50e7"
      },
      "source": [
        "print(LpUrban3)"
      ],
      "execution_count": 31,
      "outputs": [
        {
          "output_type": "stream",
          "text": [
            "[183.36857064 182.93677476 178.15323031 184.92692586 182.5759253\n",
            " 183.52714159 181.7061282  169.91963656 179.3692682  186.20009722\n",
            " 186.02511066 173.9201115  180.19205607 182.60401352 185.44090863\n",
            " 178.49542295 179.01173029 182.66002249 176.2171864  187.04383667\n",
            " 185.5095663  185.09250907 187.12549625 180.05821908 182.68794368\n",
            " 178.34436265 187.04383667 179.85504867 178.49542295 178.34436265\n",
            " 183.4744827  182.20558832 183.60576266 186.11287566 187.18643176\n",
            " 171.91235348 184.46741986 182.66002249 186.69140322 182.63204584\n",
            " 176.34903982 176.60910082 180.87456785 172.89618665 185.668478\n",
            " 177.15661694 174.43053827 170.78984712 185.41794817 178.97547226\n",
            " 177.3208898  185.91462979 175.06758974 179.47478358 172.38390337\n",
            " 175.0195957  182.34918016 183.63187246 181.64618668 185.9367954\n",
            " 176.86444747 182.14773921 170.52777003 176.43626138 185.09250907\n",
            " 185.16288176 182.74362058 185.32573025 185.80327556 182.99147866\n",
            " 177.56376198 184.99812856 183.99241742 187.24710481 170.05706436\n",
            " 169.91963656 182.23442403 184.34396388 169.64069205 178.57034992\n",
            " 176.30522567 185.78089869 185.62325729 177.44284933 177.19786511\n",
            " 180.65071828 187.12549625 175.21059846 174.43053827 177.60383665\n",
            " 172.38390337 185.98102224 184.61415283 181.00090267 187.22690949\n",
            " 185.69103403 177.44284933 184.83142558 182.49132302 172.89618665\n",
            " 185.55515287 178.34436265 173.00754089 181.7061282  184.73527342\n",
            " 181.76581574 183.50083675 179.71795525 183.18128647 183.68394734\n",
            " 183.31531448 179.57951445 175.0195957  179.88911456 180.96942503\n",
            " 179.61425242 181.21929832 185.84792294 180.55368296 175.90464216\n",
            " 176.77984519 175.21059846 187.00282867 185.80327556 186.81680082\n",
            " 184.39347619 186.56487928 185.04539786 183.18128647 180.09179773\n",
            " 184.49198175 186.77512553 174.53044108 186.20009722 173.81576852\n",
            " 171.11073201 181.25022312 177.80251748 183.76170046 179.40452789\n",
            " 176.30522567 172.9519738  183.57960436 184.51650088 187.0233476\n",
            " 178.79276882 179.75235389 170.32796189 183.34196773 170.78984712\n",
            " 181.12611449 175.11542082 171.7313715  186.0030837  174.62964035\n",
            " 185.84792294 184.1692873  170.65941807 177.76300487 182.82672547\n",
            " 180.02456019 177.80251748 184.56541147 187.06429599 183.86470814\n",
            " 176.34903982 186.52245082 183.76170046 177.56376198 181.94337571\n",
            " 176.03943972 177.28000084 182.17669346 179.57951445 176.69473171\n",
            " 181.28108017 174.43053827 185.34884139 176.94854466 172.44175248\n",
            " 186.41581717 178.57034992 184.71113247 180.19205607 178.82949958\n",
            " 183.2350508  186.50118857 179.04789523 174.77714157 186.43720858\n",
            " 180.42325391 179.61425242 170.59374784 183.70991276 176.0840871\n",
            " 182.46300896 180.05821908 179.43969953 173.71064686 169.91963656]\n"
          ],
          "name": "stdout"
        }
      ]
    },
    {
      "cell_type": "code",
      "metadata": {
        "id": "96ZSQf85K_nF"
      },
      "source": [
        "e_sort=e[np.argsort(e)]\r\n",
        "Urban3_sort2=LpUrban3[np.argsort(e)]"
      ],
      "execution_count": 32,
      "outputs": []
    },
    {
      "cell_type": "code",
      "metadata": {
        "id": "d2_XBtsPLJEM"
      },
      "source": [
        "f=1800 #MHz\r\n",
        "loc='open'\r\n",
        "tower=80 #m\r\n",
        "user=1.5 #m\r\n",
        "dmin=200 #m\r\n",
        "dmax=700 #m\r\n",
        "N=200 #titik\r\n",
        "m=np.random.randint(dmin,dmax,N)"
      ],
      "execution_count": 38,
      "outputs": []
    },
    {
      "cell_type": "code",
      "metadata": {
        "colab": {
          "base_uri": "https://localhost:8080/"
        },
        "id": "8PcKN_NQMImt",
        "outputId": "ba0f1172-9d82-457e-ad3c-32dfe1cf31d2"
      },
      "source": [
        "print(m)"
      ],
      "execution_count": 39,
      "outputs": [
        {
          "output_type": "stream",
          "text": [
            "[265 531 401 339 369 318 385 361 383 311 232 549 684 491 299 655 600 606\n",
            " 541 629 689 228 307 241 266 329 662 503 553 220 644 652 250 473 283 669\n",
            " 435 401 600 550 565 284 509 386 331 377 386 350 614 294 278 577 566 386\n",
            " 388 584 539 353 242 347 428 640 349 326 608 275 273 341 398 669 251 367\n",
            " 326 558 529 465 536 488 635 594 547 520 489 260 549 372 575 411 605 274\n",
            " 202 224 204 324 512 497 597 372 492 513 601 302 319 699 459 580 254 529\n",
            " 338 357 668 612 498 312 490 219 600 451 512 374 648 587 493 580 292 603\n",
            " 300 399 324 452 670 464 504 670 361 698 553 388 369 472 298 585 398 329\n",
            " 547 556 441 441 508 380 303 518 453 652 483 602 419 322 244 614 275 387\n",
            " 509 319 543 653 284 494 523 549 250 573 563 591 640 631 211 499 515 319\n",
            " 527 599 655 423 327 228 661 241 391 290 663 293 454 453 440 683 677 611\n",
            " 545 571]\n"
          ],
          "name": "stdout"
        }
      ]
    },
    {
      "cell_type": "code",
      "metadata": {
        "id": "B71stlBSMK3j"
      },
      "source": [
        "Lpopen=cos(f,loc,tower,user,m)"
      ],
      "execution_count": 40,
      "outputs": []
    },
    {
      "cell_type": "code",
      "metadata": {
        "colab": {
          "base_uri": "https://localhost:8080/"
        },
        "id": "56U5b85wMP4Y",
        "outputId": "5aad3c37-d1b7-48c8-eb36-003775322ceb"
      },
      "source": [
        "print(Lpopen)"
      ],
      "execution_count": 41,
      "outputs": [
        {
          "output_type": "stream",
          "text": [
            "[170.43579236 180.22618096 176.27075709 173.90481404 175.0992782\n",
            " 173.00401711 175.69719236 174.79052638 175.62382637 172.69047901\n",
            " 168.56242905 180.69576569 183.7927585  179.12297651 172.13619488\n",
            " 183.18250491 181.94706327 182.087226   180.48899152 182.61195624\n",
            " 183.89535355 168.31744483 172.50813035 169.09854508 170.48884793\n",
            " 173.48303889 183.33224613 179.4631034  180.79802558 167.81431144\n",
            " 182.94393321 183.11783959 169.61500267 178.59687329 171.36149864\n",
            " 183.48041228 177.41715995 176.27075709 181.94706327 180.72140035\n",
            " 181.10042512 171.41118559 179.63013584 175.73373256 173.56841029\n",
            " 175.40140748 175.73373256 174.35463053 182.27196619 171.8986473\n",
            " 171.11040041 181.39646903 181.12533448 175.73373256 175.80652981\n",
            " 181.56633097 180.43682021 174.47485519 169.15687327 174.23337092\n",
            " 177.18864124 182.85616821 174.31432653 173.35400375 182.13363868\n",
            " 170.95756451 170.8547448  173.9876745  176.16497759 183.48041228\n",
            " 169.67123523 175.02272237 173.35400375 180.92481525 180.17302528\n",
            " 178.3565905  180.35819915 179.03664588 182.74568735 181.80549185\n",
            " 180.64435601 179.9313108  179.06548158 170.16747496 180.69576569\n",
            " 175.21333742 181.34755843 176.6177263  182.06396218 170.90624847\n",
            " 166.61191233 168.06812439 166.75069412 173.26731894 179.71291514\n",
            " 179.29406652 181.87645542 175.21333742 179.15163621 179.74040049\n",
            " 181.97052079 172.27682404 173.04824396 184.09832878 178.17364977\n",
            " 181.46951796 169.83859844 180.17302528 173.86320031 174.63357504\n",
            " 183.45934086 182.22600778 179.32238057 172.73569972 179.09425838\n",
            " 167.75013712 181.94706327 177.92597328 179.71291514 175.28886703\n",
            " 183.03115478 181.63850656 179.18023772 181.46951796 171.80249513\n",
            " 182.01731897 172.18322743 176.20032576 173.26731894 177.95717205\n",
            " 183.50145222 178.32626489 179.49108004 183.50145222 174.79052638\n",
            " 184.07816237 180.79802558 175.80652981 175.0992782  178.56706114\n",
            " 172.08900476 181.59043061 176.16497759 173.48303889 180.64435601\n",
            " 180.87423625 177.61012513 177.61012513 179.60243428 175.51305591\n",
            " 172.32339016 179.8770285  177.98830187 183.11783959 178.89157521\n",
            " 181.99393931 176.88927663 173.18009738 169.27281004 182.27196619\n",
            " 170.95756451 175.77017821 179.63013584 173.04824396 180.54097032\n",
            " 183.1394277  171.41118559 179.20878127 180.01234402 180.69576569\n",
            " 169.61500267 181.29847742 181.05047387 181.73416898 182.85616821\n",
            " 182.65667449 167.22593757 179.35063783 179.79521082 173.04824396\n",
            " 180.11966826 181.92356662 183.18250491 177.02311363 173.39714693\n",
            " 168.31744483 183.31095174 169.09854508 175.91502512 171.70568212\n",
            " 183.35350838 171.85065326 178.01936304 177.98830187 177.57814728\n",
            " 183.77214952 183.64785838 182.20297223 180.59275801 181.24922479]\n"
          ],
          "name": "stdout"
        }
      ]
    },
    {
      "cell_type": "code",
      "metadata": {
        "id": "f47Z6xgkMTrM"
      },
      "source": [
        "m_sort=m[np.argsort(m)]\r\n",
        "open_sort3=Lpopen[np.argsort(m)]"
      ],
      "execution_count": 42,
      "outputs": []
    },
    {
      "cell_type": "code",
      "metadata": {
        "colab": {
          "base_uri": "https://localhost:8080/",
          "height": 295
        },
        "id": "PhFP7mcAMdhG",
        "outputId": "83e0f2a0-eeec-46fc-91c7-0c2e354b6def"
      },
      "source": [
        "plt.figure()\r\n",
        "plt.plot(d_sort,suburban_sort1,label='suburban')\r\n",
        "plt.plot(e_sort,Urban3_sort2,label='Urban')\r\n",
        "plt.plot(m_sort,open_sort3,label='open')\r\n",
        "plt.legend()\r\n",
        "plt.title('Frekuensi 1800 Mhz (GAMBAR CONTOH)')\r\n",
        "plt.xlabel('Jarak (m)')\r\n",
        "plt.ylabel('Path Loss (dB)')\r\n",
        "plt.show()"
      ],
      "execution_count": 47,
      "outputs": [
        {
          "output_type": "display_data",
          "data": {
            "image/png": "[encoded data removed]",
            "text/plain": [
              "<Figure size 432x288 with 1 Axes>"
            ]
          },
          "metadata": {
            "tags": [],
            "needs_background": "light"
          }
        }
      ]
    },
    {
      "cell_type": "code",
      "metadata": {
        "id": "ZFZ5GrtjM_qU"
      },
      "source": [
        ""
      ],
      "execution_count": null,
      "outputs": []
    }
  ]
}