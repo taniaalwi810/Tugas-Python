{
  "nbformat": 4,
  "nbformat_minor": 0,
  "metadata": {
    "colab": {
      "name": "Tugas13.ipynb",
      "provenance": [],
      "collapsed_sections": [],
      "authorship_tag": "ABX9TyP9CU+bBSY+8p5IKndu4NSY",
      "include_colab_link": true
    },
    "kernelspec": {
      "name": "python3",
      "display_name": "Python 3"
    }
  },
  "cells": [
    {
      "cell_type": "markdown",
      "metadata": {
        "id": "view-in-github",
        "colab_type": "text"
      },
      "source": [
        "<a href=\"https://colab.research.google.com/github/taniaalwi810/Tugas-Python/blob/main/Tugas13.ipynb\" target=\"_parent\"><img src=\"https://colab.research.google.com/assets/colab-badge.svg\" alt=\"Open In Colab\"/></a>"
      ]
    },
    {
      "cell_type": "code",
      "metadata": {
        "id": "KQ_oQszEjTJZ"
      },
      "source": [
        "import numpy as np\r\n",
        "import matplotlib.pyplot as plt"
      ],
      "execution_count": 1,
      "outputs": []
    },
    {
      "cell_type": "code",
      "metadata": {
        "id": "QhH3gKaRjho5"
      },
      "source": [
        "def cos(frek,tipe,ht,hr,d):\r\n",
        "  #frek = frekuensi (MHz)\r\n",
        "  #tipe = urban, suburban, open\r\n",
        "  #ht = tinggi tower (meter)\r\n",
        "  #hr = tinggi user (meter)\r\n",
        "  #d = jarak (meter)\r\n",
        "    if frek in range(150,1501):\r\n",
        "        Ca=69.55\r\n",
        "        Cb=26.16\r\n",
        "    elif frek in range(1501,2001):\r\n",
        "        Ca=46.3\r\n",
        "        Cb=33.9\r\n",
        "    \r\n",
        "    if tipe=='urban' :\r\n",
        "        Cm=0\r\n",
        "    elif tipe=='suburban' :\r\n",
        "        Cm= -2*((np.log10((frek/28)**2))-5.4)\r\n",
        "    elif tipe=='open' :\r\n",
        "        Cm= -4.78*(np.log10(frek))+18.33*(np.log10(frek))-40.94\r\n",
        "    else :\r\n",
        "        Cm='tipe salah'\r\n",
        "    \r\n",
        "    ahr = (1.1*np.log10(frek)-0.7)*hr-(1.56*np.log10(frek)-1.8)\r\n",
        "    Lp = Ca+(Cb*np.log10(frek))-(13.83*np.log(ht))-ahr+((44.9-6.55*np.log10(ht))*np.log10(d))-Cm\r\n",
        "    \r\n",
        "    return Lp"
      ],
      "execution_count": 2,
      "outputs": []
    },
    {
      "cell_type": "code",
      "metadata": {
        "id": "TJWBG5Fzjmym"
      },
      "source": [
        "f=1800 #MHz\r\n",
        "loc='urban'\r\n",
        "tower=80 #m\r\n",
        "user=1.5 #m\r\n",
        "dmin=200 #m\r\n",
        "dmax=700 #m\r\n",
        "N=200 #titik\r\n",
        "a=np.random.randint(dmin,dmax,N)"
      ],
      "execution_count": 3,
      "outputs": []
    },
    {
      "cell_type": "code",
      "metadata": {
        "colab": {
          "base_uri": "https://localhost:8080/"
        },
        "id": "jRj-LJNNjr5w",
        "outputId": "bb29cfd2-7ff3-446f-baa0-5fc459cb3384"
      },
      "source": [
        "print(a)"
      ],
      "execution_count": 4,
      "outputs": [
        {
          "output_type": "stream",
          "text": [
            "[625 458 546 237 416 621 362 561 389 209 663 513 220 655 219 411 302 663\n",
            " 341 436 332 251 380 602 277 339 460 231 208 557 459 418 476 450 681 325\n",
            " 557 556 317 535 445 620 479 548 214 388 274 667 295 366 232 280 386 573\n",
            " 442 464 550 222 691 407 372 392 378 243 329 514 668 438 272 200 211 501\n",
            " 640 501 681 618 631 588 420 600 333 670 225 277 244 418 476 293 447 688\n",
            " 630 417 531 537 490 420 583 257 240 422 234 640 433 379 542 301 265 389\n",
            " 351 551 651 309 210 641 488 364 350 207 642 553 215 272 496 546 375 205\n",
            " 334 615 658 617 415 578 626 673 542 560 249 267 269 423 411 602 320 268\n",
            " 548 339 296 345 491 402 333 537 579 613 676 540 537 484 365 390 313 583\n",
            " 228 480 621 365 413 563 549 523 473 664 384 376 232 327 216 591 525 414\n",
            " 688 615 587 249 222 205 316 675 627 455 247 296 503 566 654 515 685 437\n",
            " 371 207]\n"
          ],
          "name": "stdout"
        }
      ]
    },
    {
      "cell_type": "code",
      "metadata": {
        "id": "PFhPrRAsjvt8"
      },
      "source": [
        "LpUrban=cos(f,loc,tower,user,a)"
      ],
      "execution_count": 5,
      "outputs": []
    },
    {
      "cell_type": "code",
      "metadata": {
        "colab": {
          "base_uri": "https://localhost:8080/"
        },
        "id": "zjlZrhI1kCfN",
        "outputId": "f23c4a1c-74f9-4446-db6d-ecef88bc3372"
      },
      "source": [
        "print(LpUrban)"
      ],
      "execution_count": 6,
      "outputs": [
        {
          "output_type": "stream",
          "text": [
            "[185.69103403 181.31186977 183.78752308 172.03172909 179.95700017\n",
            " 185.60059238 177.99843493 184.1692873  179.01173029 170.26072435\n",
            " 186.52245082 182.90934294 170.98325388 186.35144736 170.91907957\n",
            " 179.78666874 175.44576648 186.52245082 177.15661694 180.61844739\n",
            " 176.77984519 172.84017768 178.68199836 185.16288176 174.22858158\n",
            " 177.07375648 181.37324781 171.67052372 170.19316433 184.0684909\n",
            " 181.34259222 180.02456019 181.85487549 181.06364771 186.89978332\n",
            " 176.47967047 184.0684909  184.04317869 176.12859342 183.50083675\n",
            " 180.90625794 185.57789095 181.94337571 183.83902675 170.59374784\n",
            " 178.97547226 174.07519091 186.60718033 175.11542082 178.15323031\n",
            " 171.7313715  174.3803199  178.902675   184.46741986 180.81097299\n",
            " 181.49520734 183.89034279 171.11073201 187.10512569 179.64890493\n",
            " 178.38227987 179.11994775 178.60766448 172.38390337 176.65198134\n",
            " 182.93677476 186.62828331 180.68291541 173.97199457 169.64069205\n",
            " 170.39488001 182.5759253  186.02511066 182.5759253  186.89978332\n",
            " 185.53237803 185.82561694 184.83142558 180.09179773 185.11600572\n",
            " 176.82220984 186.67039466 171.29981187 174.22858158 172.44175248\n",
            " 180.02456019 181.85487549 175.0195957  180.96942503 187.04383667\n",
            " 185.80327556 179.99082068 183.3951234  183.5533974  182.26320082\n",
            " 180.09179773 184.71113247 173.17293892 172.20891681 180.15871585\n",
            " 171.85228415 186.02511066 180.52118874 178.64488045 183.68394734\n",
            " 175.39904592 173.6047348  179.01173029 177.56376198 183.91593088\n",
            " 186.26516079 175.76854219 170.32796189 186.04710322 182.20558832\n",
            " 178.07604525 177.52357297 170.12527872 186.06906151 183.96696802\n",
            " 170.65941807 173.97199457 182.43463788 183.78752308 178.49542295\n",
            " 169.98851806 176.86444747 185.46383172 186.41581717 185.5095663\n",
            " 179.92309826 184.58980323 185.713554   186.73332658 183.68394734\n",
            " 184.14415574 172.72748718 173.71064686 173.81576852 180.19205607\n",
            " 179.78666874 185.16288176 176.26127482 173.76330575 183.83902675\n",
            " 177.07375648 175.16309002 177.3208898  182.29191895 179.47478358\n",
            " 176.82220984 183.5533974  184.61415283 185.41794817 186.79597859\n",
            " 183.63187246 183.5533974  182.08965155 178.11469065 179.04789523\n",
            " 175.94971816 184.71113247 171.48638728 181.97275265 185.60059238\n",
            " 178.11469065 179.85504867 184.21941631 183.86470814 183.18128647\n",
            " 181.76581574 186.54368103 178.82949958 178.53293625 171.7313715\n",
            " 176.56608938 170.72478356 184.90311142 183.2350508  179.88911456\n",
            " 187.04383667 185.46383172 184.807449   172.72748718 171.11073201\n",
            " 169.98851806 176.0840871  186.77512553 185.73603802 181.21929832\n",
            " 172.61388787 175.16309002 182.63204584 184.29427692 186.32992522\n",
            " 182.96415327 186.98227982 180.65071828 178.34436265 170.12527872]\n"
          ],
          "name": "stdout"
        }
      ]
    },
    {
      "cell_type": "code",
      "metadata": {
        "id": "919H2dkJkHCT"
      },
      "source": [
        "a_sort=a[np.argsort(a)]\r\n",
        "Urban_sort=LpUrban[np.argsort(a)]"
      ],
      "execution_count": 7,
      "outputs": []
    },
    {
      "cell_type": "code",
      "metadata": {
        "id": "EVHZcMOYkb64"
      },
      "source": [
        "f=900 #MHz\r\n",
        "loc='urban'\r\n",
        "tower=80 #m\r\n",
        "user=1.5 #m\r\n",
        "dmin=200 #m\r\n",
        "dmax=700 #m\r\n",
        "N=200 #titik\r\n",
        "b=np.random.randint(dmin,dmax,N)"
      ],
      "execution_count": 8,
      "outputs": []
    },
    {
      "cell_type": "code",
      "metadata": {
        "colab": {
          "base_uri": "https://localhost:8080/"
        },
        "id": "Htj7ZKtjkfA4",
        "outputId": "934ad198-6e0c-440b-8d40-0991878cb85a"
      },
      "source": [
        "print(b)"
      ],
      "execution_count": 9,
      "outputs": [
        {
          "output_type": "stream",
          "text": [
            "[405 328 559 646 697 424 225 682 443 686 631 570 477 646 202 519 329 466\n",
            " 218 201 323 234 615 209 324 694 449 557 686 207 318 650 601 628 412 324\n",
            " 243 455 660 559 418 434 381 251 213 646 327 534 659 300 681 631 304 419\n",
            " 426 692 238 406 336 532 586 414 356 248 625 686 283 426 596 345 301 434\n",
            " 559 582 243 379 475 474 307 478 293 341 347 289 229 597 223 559 550 450\n",
            " 272 459 530 200 425 365 357 276 667 485 660 284 549 678 537 297 674 455\n",
            " 674 374 677 550 318 583 446 664 520 210 695 616 412 609 332 396 556 369\n",
            " 379 458 243 406 628 308 329 678 217 598 637 597 592 432 434 316 309 314\n",
            " 339 607 493 230 552 357 252 463 232 315 280 514 298 528 202 256 361 399\n",
            " 326 343 637 280 638 500 214 688 313 328 612 613 559 375 294 575 388 594\n",
            " 415 486 240 245 408 662 537 299 228 303 569 546 313 511 254 578 438 464\n",
            " 580 614]\n"
          ],
          "name": "stdout"
        }
      ]
    },
    {
      "cell_type": "code",
      "metadata": {
        "id": "RS_vWTm5khu-"
      },
      "source": [
        "Lpurban1=cos(f,loc,tower,user,b)"
      ],
      "execution_count": 10,
      "outputs": []
    },
    {
      "cell_type": "code",
      "metadata": {
        "colab": {
          "base_uri": "https://localhost:8080/"
        },
        "id": "c61n79-Mkk5k",
        "outputId": "d0ce63d0-3b1c-4b28-f030-8f60f2ecdcc2"
      },
      "source": [
        "print(Lpurban1)"
      ],
      "execution_count": 11,
      "outputs": [
        {
          "output_type": "stream",
          "text": [
            "[169.78585328 166.81543965 174.32531808 176.36289277 177.43324831\n",
            " 170.43165639 161.50615069 177.12679161 171.04914514 177.2091675\n",
            " 176.03195576 174.59981501 172.09077621 176.36289277 159.9871936\n",
            " 173.27947706 166.85832016 171.76213222 161.06095037 159.91728657\n",
            " 166.59905694 162.05862297 175.67017055 160.46706318 166.64260021\n",
            " 177.37248802 171.23864895 174.27482972 177.2091675  160.33161754\n",
            " 166.37929838 176.44984513 175.34580206 175.96482504 170.02723902\n",
            " 166.64260021 162.5902422  171.42563715 176.66490637 174.32531808\n",
            " 170.23089901 170.76002179 168.92535754 163.0465165  160.73410885\n",
            " 176.36289277 166.7724282  173.68082152 176.6435474  165.5585087\n",
            " 177.10612214 176.03195576 165.74508411 170.2645579  170.49794469\n",
            " 177.33183507 162.29737848 169.82059124 167.15488348 173.62796503\n",
            " 174.98977036 170.09545338 167.96934369 162.87714086 175.89737285\n",
            " 177.2091675  164.73677991 170.49794469 175.22812186 167.52722862\n",
            " 165.60538474 170.76002179 174.32531808 174.89328891 162.5902422\n",
            " 168.85121927 172.03159025 172.00190375 165.88341161 172.1202762\n",
            " 165.22593453 167.36295577 167.60865219 165.03230622 161.75437275\n",
            " 175.25173668 161.38037988 174.32531808 174.09668161 171.26998653\n",
            " 164.17833339 171.54893104 173.57490946 159.84703087 170.46483953\n",
            " 168.32102947 168.00885631 164.38397555 176.81351915 172.32506415\n",
            " 176.66490637 164.78646686 174.07104696 177.04393115 173.75973622\n",
            " 165.41693728 176.96058038 171.42563715 176.96058038 168.6641483\n",
            " 177.02313965 174.09668161 166.37929838 174.9174713  171.14421572\n",
            " 176.75001985 173.30659206 160.53430071 177.39277059 175.6930564\n",
            " 170.02723902 175.53206907 166.98618401 169.46929529 174.24951752\n",
            " 168.47455947 168.85121927 171.51820859 162.5902422  169.82059124\n",
            " 175.96482504 165.92922056 166.85832016 177.04393115 160.99618595\n",
            " 175.27531198 176.165265   175.25173668 175.13326469 170.69495822\n",
            " 170.76002179 166.29042593 165.97488101 166.2009892  167.28009531\n",
            " 175.48573272 172.55551898 161.81575079 174.14781139 168.00885631\n",
            " 163.10252547 171.67115513 161.93771032 166.24577854 164.58665872\n",
            " 173.14311358 165.46428602 173.5216533  159.9871936  163.32436057\n",
            " 168.16580765 169.57560702 166.72928502 167.44533166 176.165265\n",
            " 164.58665872 176.18736106 172.75411978 160.80008667 177.2501755\n",
            " 166.15605698 166.81543965 175.60128905 175.624287   174.32531808\n",
            " 168.70176177 165.27392857 174.7228397  169.18181108 175.18077312\n",
            " 170.12943708 172.35407804 162.41525563 162.70570381 169.88981122\n",
            " 176.7075274  173.75973622 165.51147614 161.6927261  165.69867142\n",
            " 174.57508061 173.99386191 166.15605698 173.06065732 163.21387971\n",
            " 174.79614206 170.88925423 171.70154616 174.84479923 175.64724745]\n"
          ],
          "name": "stdout"
        }
      ]
    },
    {
      "cell_type": "code",
      "metadata": {
        "id": "t_VfP0jrknaz"
      },
      "source": [
        "b_sort=b[np.argsort(b)]\r\n",
        "urban1_sort=Lpurban1[np.argsort(b)]"
      ],
      "execution_count": 12,
      "outputs": []
    },
    {
      "cell_type": "code",
      "metadata": {
        "id": "b23pJXnSkq48"
      },
      "source": [
        "f=700 #MHz\r\n",
        "loc='urban'\r\n",
        "tower=80 #m\r\n",
        "user=1.5 #m\r\n",
        "dmin=200 #m\r\n",
        "dmax=700 #m\r\n",
        "N=200 #titik\r\n",
        "c=np.random.randint(dmin,dmax,N)"
      ],
      "execution_count": 13,
      "outputs": []
    },
    {
      "cell_type": "code",
      "metadata": {
        "colab": {
          "base_uri": "https://localhost:8080/"
        },
        "id": "1xVerXoSkt91",
        "outputId": "bc38cc19-fc44-49a3-fa4b-aa5a437caaab"
      },
      "source": [
        "print(c)"
      ],
      "execution_count": 14,
      "outputs": [
        {
          "output_type": "stream",
          "text": [
            "[629 200 672 388 523 261 447 319 359 417 492 205 223 582 481 371 281 689\n",
            " 496 398 648 576 252 208 434 252 412 337 458 615 349 672 638 450 631 200\n",
            " 653 682 262 363 622 334 210 522 591 325 421 394 580 653 699 517 243 547\n",
            " 646 341 476 478 506 407 429 545 366 485 659 512 566 665 628 699 600 531\n",
            " 304 555 341 331 465 686 598 598 573 520 267 427 585 325 422 510 517 302\n",
            " 441 494 354 307 395 592 238 428 403 286 411 204 495 584 414 213 606 518\n",
            " 403 369 254 451 268 293 273 433 676 391 240 464 569 286 679 659 583 497\n",
            " 347 440 424 441 677 674 325 368 424 213 678 337 564 327 352 678 507 305\n",
            " 504 350 539 246 608 544 225 691 516 353 216 607 341 452 283 616 676 511\n",
            " 586 280 399 586 271 683 247 206 607 577 427 375 573 361 655 690 642 314\n",
            " 372 365 654 688 254 456 513 607 270 352 353 331 551 208 577 229 274 515\n",
            " 497 430]\n"
          ],
          "name": "stdout"
        }
      ]
    },
    {
      "cell_type": "code",
      "metadata": {
        "id": "asPMiLSckw19"
      },
      "source": [
        "Lpurban2=cos(f,loc,tower,user,c)"
      ],
      "execution_count": 15,
      "outputs": []
    },
    {
      "cell_type": "code",
      "metadata": {
        "colab": {
          "base_uri": "https://localhost:8080/"
        },
        "id": "m-thdcy8k0HS",
        "outputId": "58facc24-8f04-47db-ee14-1b4d7881bcae"
      },
      "source": [
        "print(Lpurban2)"
      ],
      "execution_count": 16,
      "outputs": [
        {
          "output_type": "stream",
          "text": [
            "[173.14184119 157.00163455 174.073323   166.33641476 170.54222897\n",
            " 160.75143382 168.33036754 163.57812891 165.24215426 167.35176319\n",
            " 169.68152116 157.34946056 158.53498356 172.04789259 169.36301095\n",
            " 165.70530516 161.79148078 174.4252385  169.79558038 166.69486254\n",
            " 173.56103973 171.90191991 160.25712916 157.55410684 167.91462547\n",
            " 160.25712916 167.1818427  164.35134823 168.67281227 172.82477423\n",
            " 164.84421148 174.073323   173.34196474 168.42459021 173.18655944\n",
            " 157.00163455 173.66931265 174.28139529 160.80530095 165.39823605\n",
            " 172.9841998  164.22538997 157.6889044  170.51526966 172.26405393\n",
            " 163.84061298 167.48623903 166.5525761  171.99940291 173.66931265\n",
            " 174.62821373 170.37969366 159.74484588 171.17424096 173.51749646\n",
            " 164.51755945 169.215818   169.27487988 170.07675215 167.00984743\n",
            " 167.75139957 171.12264296 165.51417282 169.47966783 173.79815109\n",
            " 170.24280009 171.65521943 173.92582179 173.11942872 174.62821373\n",
            " 172.47694822 170.75606591 162.89968779 171.37876343 164.51755945\n",
            " 164.09829524 168.88647544 174.36377118 172.42991566 172.42991566\n",
            " 171.82836237 170.46119575 161.07158937 167.68557591 172.12031556\n",
            " 163.84061298 167.51965835 170.18766798 170.37969366 162.80670899\n",
            " 168.14001008 169.73866622 165.04458808 163.0380153  166.58828268\n",
            " 172.28786837 159.45198216 167.71852619 166.87072297 162.03992174\n",
            " 167.14761125 157.28057907 169.76715204 172.09621592 167.25005706\n",
            " 157.88871253 172.61711095 170.40691345 166.87072297 165.62916315\n",
            " 160.36848339 168.45585823 161.12424826 162.38053821 161.38462975\n",
            " 167.88213125 174.1569211  166.44491007 159.56985931 168.85614984\n",
            " 171.72968429 162.03992174 174.21929568 173.79815109 172.07207498\n",
            " 169.82395147 164.76325587 168.10803223 167.58626007 168.14001008\n",
            " 174.17774333 174.11518407 163.84061298 165.59093724 167.58626007\n",
            " 157.88871253 174.19853483 164.35134823 171.60535659 163.92703188\n",
            " 164.96477916 174.19853483 170.10456309 162.94594806 170.02096499\n",
            " 164.88451548 170.96670516 159.91768532 172.66352363 171.09677291\n",
            " 158.66075437 174.4660682  170.35242117 165.00474014 158.08572606\n",
            " 172.6403364  164.51755945 168.487057   161.89138359 172.84766008\n",
            " 174.1569211  170.21526101 172.14437405 161.74126241 166.73021071\n",
            " 172.14437405 161.28105401 174.30203447 159.97483038 157.41800686\n",
            " 172.6403364  171.92635398 167.68557591 165.85636545 171.82836237\n",
            " 165.32041133 173.71238986 174.44566814 173.43000402 163.35559288\n",
            " 165.74322237 165.47563315 173.69086772 174.40477918 160.36848339\n",
            " 168.61116562 170.27028544 172.6403364  161.22897913 164.96477916\n",
            " 165.00474014 164.09829524 171.27687338 157.55410684 171.92635398\n",
            " 158.90897644 161.43613342 170.32509577 169.82395147 167.78419641]\n"
          ],
          "name": "stdout"
        }
      ]
    },
    {
      "cell_type": "code",
      "metadata": {
        "id": "XZKOdsAtk25P"
      },
      "source": [
        "c_sort=c[np.argsort(c)]\r\n",
        "urban2_sort=Lpurban2[np.argsort(c)]"
      ],
      "execution_count": 17,
      "outputs": []
    },
    {
      "cell_type": "code",
      "metadata": {
        "colab": {
          "base_uri": "https://localhost:8080/",
          "height": 295
        },
        "id": "AzL4DeDqk6wy",
        "outputId": "fc2682bc-201d-440f-e904-5def37fc0080"
      },
      "source": [
        "plt.figure()\r\n",
        "plt.plot(a_sort,Urban_sort, label='1800 Mhz')\r\n",
        "plt.plot(b_sort,urban1_sort, label='900 Mhz')\r\n",
        "plt.plot(c_sort,urban2_sort, label='700 Mhz')\r\n",
        "plt.legend()\r\n",
        "plt.title('Model Urban (GAMBAR CONTOH)')\r\n",
        "plt.xlabel('Jarak (m)')\r\n",
        "plt.ylabel('Path Loss (dB)')\r\n",
        "plt.show()"
      ],
      "execution_count": 18,
      "outputs": [
        {
          "output_type": "display_data",
          "data": {
            "image/png": "[encoded data removed]",
            "text/plain": [
              "<Figure size 432x288 with 1 Axes>"
            ]
          },
          "metadata": {
            "tags": [],
            "needs_background": "light"
          }
        }
      ]
    },
    {
      "cell_type": "code",
      "metadata": {
        "id": "YLob4wITk-Hp"
      },
      "source": [
        "f=1800 #MHz\r\n",
        "loc='suburban'\r\n",
        "tower=80 #m\r\n",
        "user=1.5 #m\r\n",
        "dmin=200 #m\r\n",
        "dmax=700 #m\r\n",
        "N=200 #titik\r\n",
        "d=np.random.randint(dmin,dmax,N)"
      ],
      "execution_count": 19,
      "outputs": []
    },
    {
      "cell_type": "code",
      "metadata": {
        "id": "YXQXhx1qlB0Z"
      },
      "source": [
        "Lpsuburban=cos(f,loc,tower,user,d)"
      ],
      "execution_count": 20,
      "outputs": []
    },
    {
      "cell_type": "code",
      "metadata": {
        "colab": {
          "base_uri": "https://localhost:8080/"
        },
        "id": "Piaw2QqQlEiY",
        "outputId": "88725c2d-afae-4592-d8c7-72e48cc7432d"
      },
      "source": [
        "print(Lpsuburban)"
      ],
      "execution_count": 21,
      "outputs": [
        {
          "output_type": "stream",
          "text": [
            "[175.00280781 172.86871928 172.29187935 178.49297554 178.63804621\n",
            " 175.73094083 180.99786937 166.35209446 167.22230502 176.08136282\n",
            " 174.92788084 183.22843649 174.31366965 166.07314994 180.34838877\n",
            " 177.147497   183.31154137 183.35291068 172.86871928 177.68268101\n",
            " 177.71353806 179.23153618 178.34639527 181.87336652 178.22802283\n",
            " 181.59533965 173.38100255 172.86871928 168.81636127 182.01034884\n",
            " 173.42286362 182.10093589 179.25918336 180.85062513 170.45614514\n",
            " 182.91235208 170.14310475 175.58829417 173.630323   181.16773131\n",
            " 169.93047826 175.07733835 181.16773131 183.29081107 174.70067854\n",
            " 181.61871931 167.73226976 180.39942592 172.60541745 175.15147661\n",
            " 166.42097595 171.20959946 179.93329465 181.095184   169.66010072\n",
            " 183.16578447 172.73768357 172.69373271 178.86709577 182.25807483\n",
            " 174.43089283 180.21998098 180.11640523 176.28750656 178.28733339\n",
            " 182.61080031 179.06450373 167.22230502 176.8557118  177.27526421\n",
            " 183.16578447 182.97613892 181.33556932 167.79473655 182.52344351\n",
            " 173.50621438 182.78390525 173.08443923 176.72406376 181.50143105\n",
            " 175.76637793 168.16382939 175.73094083 171.4520536  179.58678505\n",
            " 182.10093589 178.49297554 175.76637793 179.28677639 178.46378126\n",
            " 174.77682055 173.99621987 181.94202419 166.28287448 168.22441545\n",
            " 166.82733791 179.61374436 175.76637793 173.38100255 182.01034884\n",
            " 171.9247905  182.07834369 181.16773131 181.98761076 179.23153618\n",
            " 181.71185179 175.69541436 183.39415884 167.02620574 176.11593029\n",
            " 169.04634577 175.15147661 179.88053714 180.92443964 181.71185179\n",
            " 177.83629472 175.76637793 179.09248038 178.52210945 180.99786937\n",
            " 176.21912664 183.63914306 181.94202419 169.21640301 171.1606038\n",
            " 178.78163805 177.86681746 179.88053714 181.33556932 177.68268101\n",
            " 176.01197235 180.19415835 175.87215743 178.83866743 174.77682055\n",
            " 176.82291496 168.10298162 182.07834369 178.89546686 183.03963822\n",
            " 180.06433036 182.80539456 177.21152547 176.79004158 180.70182546\n",
            " 174.35285253 181.94202419 182.01034884 167.41571178 180.55143715\n",
            " 180.47563659 168.46418699 179.74777237 181.31171455 181.96483592\n",
            " 166.35209446 167.66952473 179.09248038 173.16981063 171.73759522\n",
            " 171.30708246 182.36925329 182.30265157 180.99786937 175.69541436\n",
            " 171.11143713 166.48952225 172.91212837 181.11940798 169.7688753\n",
            " 173.79411831 181.40689219 183.18669946 172.06357228 183.08181262\n",
            " 176.35555615 181.57192113 183.0607412  175.40793015 182.19094411\n",
            " 176.45701809 180.65187421 173.58907484 179.80102853 183.61888966\n",
            " 179.06450373 178.72437685 183.12386112 180.47563659 174.62412271\n",
            " 167.66952473 178.19827363 169.82294921 171.87822438 181.87336652\n",
            " 176.52425562 178.55118322 177.37033479 171.78462777 169.04634577]\n"
          ],
          "name": "stdout"
        }
      ]
    },
    {
      "cell_type": "code",
      "metadata": {
        "id": "-eHlYfiHlHTl"
      },
      "source": [
        "d_sort=d[np.argsort(d)]\r\n",
        "suburban_sort1=Lpsuburban[np.argsort(d)]"
      ],
      "execution_count": 22,
      "outputs": []
    },
    {
      "cell_type": "code",
      "metadata": {
        "id": "vBMFhVp5lK09"
      },
      "source": [
        "f=1800 #MHz\r\n",
        "loc='urban'\r\n",
        "tower=80 #m\r\n",
        "user=1.5 #m\r\n",
        "dmin=200 #m\r\n",
        "dmax=700 #m\r\n",
        "N=200 #titik\r\n",
        "e=np.random.randint(dmin,dmax,N)"
      ],
      "execution_count": 23,
      "outputs": []
    },
    {
      "cell_type": "code",
      "metadata": {
        "colab": {
          "base_uri": "https://localhost:8080/"
        },
        "id": "RP7ZDO1TlOAw",
        "outputId": "0d15cd15-101c-4f4c-da3f-17fa09864cd2"
      },
      "source": [
        "print(e)"
      ],
      "execution_count": 24,
      "outputs": [
        {
          "output_type": "stream",
          "text": [
            "[311 399 306 532 518 392 422 684 208 400 684 216 402 516 490 299 508 542\n",
            " 363 488 585 527 462 609 464 570 452 504 299 414 541 366 241 587 428 233\n",
            " 284 692 217 565 572 443 444 307 537 588 514 685 456 579 634 533 618 238\n",
            " 618 503 539 495 203 247 547 467 528 275 638 203 652 617 587 477 357 549\n",
            " 558 565 249 563 207 342 526 590 267 699 337 503 630 540 414 631 483 310\n",
            " 478 512 552 568 640 375 522 238 635 695 230 514 242 327 363 483 362 368\n",
            " 616 616 522 509 371 567 634 571 351 281 261 384 365 508 667 632 397 275\n",
            " 366 424 272 678 438 538 244 232 505 515 612 343 349 560 262 211 357 624\n",
            " 678 296 677 357 343 634 573 523 645 304 210 529 589 352 599 214 615 565\n",
            " 620 480 640 498 446 517 682 656 679 653 575 595 291 200 659 423 444 695\n",
            " 535 517 500 625 624 383 641 235 265 383 543 563 275 375 503 218 558 443\n",
            " 247 444]\n"
          ],
          "name": "stdout"
        }
      ]
    },
    {
      "cell_type": "code",
      "metadata": {
        "id": "oZgpbKVZlQfZ"
      },
      "source": [
        "LpUrban3=cos(f,loc,tower,user,e)"
      ],
      "execution_count": 25,
      "outputs": []
    },
    {
      "cell_type": "code",
      "metadata": {
        "colab": {
          "base_uri": "https://localhost:8080/"
        },
        "id": "2rtzgUJ1lTuu",
        "outputId": "3f0d0223-1c76-4847-eba5-4ecaa5eebdb2"
      },
      "source": [
        "print(LpUrban3)"
      ],
      "execution_count": 26,
      "outputs": [
        {
          "output_type": "stream",
          "text": [
            "[175.85942145 179.3692682  175.63111439 183.42162621 183.04597095\n",
            " 179.11994775 180.15871585 186.96170094 170.19316433 179.40452789\n",
            " 186.96170094 170.72478356 179.47478358 182.99147866 182.26320082\n",
            " 175.30513732 182.77137672 183.68394734 178.03729354 182.20558832\n",
            " 184.75937306 183.2886107  181.43435956 185.32573025 181.49520734\n",
            " 184.39347619 181.12611449 182.66002249 175.30513732 179.88911456\n",
            " 183.65793397 178.15323031 172.26748753 184.807449   180.35758368\n",
            " 171.79195756 174.58012804 187.12549625 170.78984712 184.26936756\n",
            " 184.44281507 180.84280631 180.87456785 175.67707279 183.5533974\n",
            " 184.83142558 182.93677476 186.98227982 181.25022312 184.61415283\n",
            " 185.89242926 183.44807925 185.53237803 172.09103965 185.53237803\n",
            " 182.63204584 183.60576266 182.40620954 169.85041658 172.61388787\n",
            " 183.81329845 181.58598899 183.31531448 174.12650695 185.98102224\n",
            " 169.85041658 186.28678204 185.5095663  184.807449   181.88443739\n",
            " 177.80251748 183.86470814 184.0937577  184.26936756 172.72748718\n",
            " 184.21941631 170.12527872 177.19786511 183.26185621 184.87925665\n",
            " 173.71064686 187.26727123 176.99040572 182.63204584 185.80327556\n",
            " 183.63187246 179.88911456 185.82561694 182.06051765 175.81405511\n",
            " 181.91393737 182.88185758 183.94147257 184.34396388 186.02511066\n",
            " 178.49542295 183.15432715 172.09103965 185.91462979 187.18643176\n",
            " 171.60941197 182.93677476 172.32581571 176.56608938 178.03729354\n",
            " 182.06051765 177.99843493 178.22999474 185.48671757 185.48671757\n",
            " 183.15432715 182.79907828 178.34436265 184.31914231 185.89242926\n",
            " 184.41816723 177.56376198 174.43053827 173.39049132 178.82949958\n",
            " 178.11469065 182.77137672 186.60718033 185.84792294 179.29848294\n",
            " 174.12650695 178.15323031 180.22531757 173.97199457 186.83759232\n",
            " 180.68291541 183.57960436 172.44175248 171.7313715  182.68794368\n",
            " 182.96415327 185.39495023 177.23899284 177.48326897 184.14415574\n",
            " 173.44435845 170.39488001 177.80251748 185.668478   186.83759232\n",
            " 175.16309002 186.81680082 177.80251748 177.23899284 185.89242926\n",
            " 184.46741986 183.18128647 186.13473173 175.53874529 170.32796189\n",
            " 183.34196773 184.85536142 177.60383665 185.09250907 170.59374784\n",
            " 185.46383172 184.26936756 185.57789095 181.97275265 186.02511066\n",
            " 182.49132302 180.93787689 183.01875116 186.92045278 186.37293666\n",
            " 186.85835318 186.30837014 184.51650088 184.99812856 174.92311425\n",
            " 169.64069205 186.43720858 180.19205607 180.87456785 187.18643176\n",
            " 183.50083675 183.01875116 182.54778096 185.69103403 185.668478\n",
            " 178.79276882 186.04710322 171.91235348 173.6047348  178.79276882\n",
            " 183.70991276 184.21941631 174.12650695 178.49542295 182.63204584\n",
            " 170.85461155 184.0937577  180.84280631 172.61388787 180.87456785]\n"
          ],
          "name": "stdout"
        }
      ]
    },
    {
      "cell_type": "code",
      "metadata": {
        "id": "2t643Z7jlWkd"
      },
      "source": [
        "e_sort=e[np.argsort(e)]\r\n",
        "Urban3_sort2=LpUrban3[np.argsort(e)]"
      ],
      "execution_count": 27,
      "outputs": []
    },
    {
      "cell_type": "code",
      "metadata": {
        "id": "LYjfw00Hldih"
      },
      "source": [
        "f=1800 #MHz\r\n",
        "loc='open'\r\n",
        "tower=80 #m\r\n",
        "user=1.5 #m\r\n",
        "dmin=200 #m\r\n",
        "dmax=700 #m\r\n",
        "N=200 #titik\r\n",
        "m=np.random.randint(dmin,dmax,N)"
      ],
      "execution_count": 29,
      "outputs": []
    },
    {
      "cell_type": "code",
      "metadata": {
        "colab": {
          "base_uri": "https://localhost:8080/"
        },
        "id": "gKMdkklflgQq",
        "outputId": "a66c8d8f-1535-4dc8-a5ae-6ddae9c5e759"
      },
      "source": [
        "print(m)"
      ],
      "execution_count": 30,
      "outputs": [
        {
          "output_type": "stream",
          "text": [
            "[247 240 474 660 595 600 645 574 613 227 421 660 252 560 342 519 443 618\n",
            " 345 431 644 494 527 560 419 440 205 488 375 262 276 501 510 389 365 628\n",
            " 469 575 553 465 332 361 430 329 386 579 656 274 292 394 614 577 564 623\n",
            " 544 483 406 629 434 408 469 410 422 372 217 416 414 260 466 312 411 457\n",
            " 416 307 412 331 469 304 348 668 593 349 461 214 248 680 322 692 301 660\n",
            " 695 308 633 355 567 679 685 386 673 378 362 461 568 271 352 521 518 285\n",
            " 592 281 629 530 587 591 518 447 674 267 578 300 549 445 589 603 272 524\n",
            " 327 372 495 376 283 594 277 438 272 693 338 456 543 337 350 394 385 614\n",
            " 575 524 572 311 265 345 502 620 424 614 552 382 439 604 585 274 457 216\n",
            " 208 519 626 437 638 587 501 558 629 334 460 456 391 650 226 548 266 210\n",
            " 430 474 230 633 315 562 697 245 592 421 327 592 303 353 587 604 487 519\n",
            " 555 514]\n"
          ],
          "name": "stdout"
        }
      ]
    },
    {
      "cell_type": "code",
      "metadata": {
        "id": "FsZ_iQ7wluT7"
      },
      "source": [
        "Lpopen=cos(f,loc,tower,user,m)"
      ],
      "execution_count": 31,
      "outputs": []
    },
    {
      "cell_type": "code",
      "metadata": {
        "colab": {
          "base_uri": "https://localhost:8080/"
        },
        "id": "iffWFXsBlxvj",
        "outputId": "4ce46776-34da-4607-b7a6-3d8a93eee36e"
      },
      "source": [
        "print(Lpopen)"
      ],
      "execution_count": 32,
      "outputs": [
        {
          "output_type": "stream",
          "text": [
            "[169.44494543 169.03997436 178.62662249 183.2896251  181.82918612\n",
            " 181.94706327 182.96578929 181.3230393  182.24900573 168.25552721\n",
            " 176.95635408 183.2896251  169.72724421 180.97521329 174.02892266\n",
            " 179.9041958  177.67386387 182.36343558 174.15194735 177.28703212\n",
            " 182.94393321 179.20878127 180.11966826 180.97521329 176.88927663\n",
            " 177.57814728 166.81957561 179.03664588 175.3264805  170.275416\n",
            " 171.00869428 179.40698285 179.65778303 175.84278784 174.9457482\n",
            " 182.58954377 178.47724423 181.34755843 180.79802558 178.3565905\n",
            " 173.61090274 174.79052638 177.25431146 173.48303889 175.73373256\n",
            " 181.44521038 183.20399422 170.90624847 171.80249513 176.02269115\n",
            " 182.27196619 181.39646903 181.07547164 182.47694335 180.56688796\n",
            " 178.89157521 176.44530998 182.61195624 177.38474052 176.51452995\n",
            " 178.47724423 176.58341145 176.9897734  175.21333742 167.62090468\n",
            " 176.78805773 176.72017211 170.16747496 178.38685095 172.73569972\n",
            " 176.6177263  178.11213772 176.78805773 172.50813035 176.65195775\n",
            " 173.56841029 178.47724423 172.36980284 174.27390688 183.45934086\n",
            " 181.78175766 174.31432653 178.23489438 167.4248054  169.5018596\n",
            " 183.71014103 173.18009738 183.95655381 172.23010347 183.2896251\n",
            " 184.01748932 172.55393929 182.70125123 174.55443866 181.15019986\n",
            " 183.68941073 183.81333738 175.73373256 183.56438414 175.43872203\n",
            " 174.82949249 178.23489438 181.17502143 170.75116906 174.43489421\n",
            " 179.9583737  179.8770285  171.4606979  181.75798342 171.26159583\n",
            " 182.61195624 180.19962819 181.63850656 181.73416898 179.8770285\n",
            " 177.80048259 183.58529912 170.54170442 181.42086079 172.18322743\n",
            " 180.69576569 177.7373155  181.68641898 182.01731897 170.80305213\n",
            " 180.03925184 173.39714693 175.21333742 179.23726709 175.36399381\n",
            " 171.36149864 181.80549185 171.05963914 177.51397296 170.80305213\n",
            " 183.97689495 173.86320031 178.08128067 180.54097032 173.82146328\n",
            " 174.35463053 176.02269115 175.69719236 182.27196619 181.34755843\n",
            " 180.03925184 181.27387263 172.69047901 170.43579236 174.15194735\n",
            " 179.43507107 182.4089485  177.05637512 182.27196619 180.77253012\n",
            " 175.58699959 177.54609666 182.04065988 181.59043061 170.90624847\n",
            " 178.11213772 167.55584111 167.02422189 179.9041958  182.54461155\n",
            " 177.48177583 182.81207979 181.63850656 179.40698285 180.92481525\n",
            " 182.61195624 173.69550502 178.20430536 178.08128067 175.91502512\n",
            " 183.07456387 168.19333621 180.67008431 170.48884793 167.15901945\n",
            " 177.25431146 178.62662249 168.44046952 182.70125123 172.87049728\n",
            " 181.02543166 184.05796704 169.33042254 181.75798342 176.95635408\n",
            " 173.39714693 181.75798342 172.32339016 174.47485519 181.63850656\n",
            " 182.04065988 179.00775102 179.9041958  180.84887848 179.76783232]\n"
          ],
          "name": "stdout"
        }
      ]
    },
    {
      "cell_type": "code",
      "metadata": {
        "id": "NRqEpK7xl0ZW"
      },
      "source": [
        "m_sort=m[np.argsort(m)]\r\n",
        "open_sort3=Lpopen[np.argsort(m)]"
      ],
      "execution_count": 33,
      "outputs": []
    },
    {
      "cell_type": "code",
      "metadata": {
        "colab": {
          "base_uri": "https://localhost:8080/",
          "height": 295
        },
        "id": "-m3EZZfPl3xE",
        "outputId": "fb2e3f1b-1523-4ac8-ce2c-ee6560b103cf"
      },
      "source": [
        "plt.figure()\r\n",
        "plt.plot(d_sort,suburban_sort1,label='suburban')\r\n",
        "plt.plot(e_sort,Urban3_sort2,label='Urban')\r\n",
        "plt.plot(m_sort,open_sort3,label='open')\r\n",
        "plt.legend()\r\n",
        "plt.title('Frekuensi 1800 Mhz (GAMBAR CONTOH)')\r\n",
        "plt.xlabel('Jarak (m)')\r\n",
        "plt.ylabel('Path Loss (dB)')\r\n",
        "plt.show()"
      ],
      "execution_count": 34,
      "outputs": [
        {
          "output_type": "display_data",
          "data": {
            "image/png": "[encoded data removed]",
            "text/plain": [
              "<Figure size 432x288 with 1 Axes>"
            ]
          },
          "metadata": {
            "tags": [],
            "needs_background": "light"
          }
        }
      ]
    },
    {
      "cell_type": "code",
      "metadata": {
        "id": "eRhiYYOKl6Y7"
      },
      "source": [
        ""
      ],
      "execution_count": null,
      "outputs": []
    }
  ]
}